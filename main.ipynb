{
 "cells": [
  {
   "cell_type": "markdown",
   "metadata": {},
   "source": [
    "#### Task:\n",
    "\n",
    "Task is to train a clickbait filter to classify clickbait articles by their headline, deciding how to prepare the data and which ML model to use for classification.\n",
    "\n",
    "#### Dataset:\n",
    "\n",
    "The data consists of two files, a text file with clickbait headlines and one with headlines from news sources. The hold out dataset is organized the same way."
   ]
  },
  {
   "cell_type": "code",
   "execution_count": 285,
   "metadata": {},
   "outputs": [
    {
     "data": {
      "text/html": [
       "<div>\n",
       "<style scoped>\n",
       "    .dataframe tbody tr th:only-of-type {\n",
       "        vertical-align: middle;\n",
       "    }\n",
       "\n",
       "    .dataframe tbody tr th {\n",
       "        vertical-align: top;\n",
       "    }\n",
       "\n",
       "    .dataframe thead th {\n",
       "        text-align: right;\n",
       "    }\n",
       "</style>\n",
       "<table border=\"1\" class=\"dataframe\">\n",
       "  <thead>\n",
       "    <tr style=\"text-align: right;\">\n",
       "      <th></th>\n",
       "      <th>headlines</th>\n",
       "      <th>class</th>\n",
       "    </tr>\n",
       "  </thead>\n",
       "  <tbody>\n",
       "    <tr>\n",
       "      <th>0</th>\n",
       "      <td>Guys Try Tinder</td>\n",
       "      <td>1</td>\n",
       "    </tr>\n",
       "    <tr>\n",
       "      <th>1</th>\n",
       "      <td>Michael B. Jordan Got Laid The Fuck Out While ...</td>\n",
       "      <td>1</td>\n",
       "    </tr>\n",
       "    <tr>\n",
       "      <th>2</th>\n",
       "      <td>What's The Most Fucked Up Thing You've Done On...</td>\n",
       "      <td>1</td>\n",
       "    </tr>\n",
       "    <tr>\n",
       "      <th>3</th>\n",
       "      <td>How Far Would You Make It In The Hunger Games</td>\n",
       "      <td>1</td>\n",
       "    </tr>\n",
       "    <tr>\n",
       "      <th>4</th>\n",
       "      <td>If Matthew Gray Gubler's Tweets Were Motivatio...</td>\n",
       "      <td>1</td>\n",
       "    </tr>\n",
       "    <tr>\n",
       "      <th>...</th>\n",
       "      <td>...</td>\n",
       "      <td>...</td>\n",
       "    </tr>\n",
       "    <tr>\n",
       "      <th>14330</th>\n",
       "      <td>This Dad Just Shut It Down By Videobombing His...</td>\n",
       "      <td>1</td>\n",
       "    </tr>\n",
       "    <tr>\n",
       "      <th>14331</th>\n",
       "      <td>21 Gorgeous Drinking Accessories To Get You El...</td>\n",
       "      <td>1</td>\n",
       "    </tr>\n",
       "    <tr>\n",
       "      <th>14332</th>\n",
       "      <td>23 Cheap Upgrades That Will Actually Increase ...</td>\n",
       "      <td>1</td>\n",
       "    </tr>\n",
       "    <tr>\n",
       "      <th>14333</th>\n",
       "      <td>Indian Girls Revealed What Kind Of Porn They L...</td>\n",
       "      <td>1</td>\n",
       "    </tr>\n",
       "    <tr>\n",
       "      <th>14334</th>\n",
       "      <td>This Image Test Will Determine What You Want F...</td>\n",
       "      <td>1</td>\n",
       "    </tr>\n",
       "  </tbody>\n",
       "</table>\n",
       "<p>14335 rows × 2 columns</p>\n",
       "</div>"
      ],
      "text/plain": [
       "                                               headlines  class\n",
       "0                                        Guys Try Tinder      1\n",
       "1      Michael B. Jordan Got Laid The Fuck Out While ...      1\n",
       "2      What's The Most Fucked Up Thing You've Done On...      1\n",
       "3          How Far Would You Make It In The Hunger Games      1\n",
       "4      If Matthew Gray Gubler's Tweets Were Motivatio...      1\n",
       "...                                                  ...    ...\n",
       "14330  This Dad Just Shut It Down By Videobombing His...      1\n",
       "14331  21 Gorgeous Drinking Accessories To Get You El...      1\n",
       "14332  23 Cheap Upgrades That Will Actually Increase ...      1\n",
       "14333  Indian Girls Revealed What Kind Of Porn They L...      1\n",
       "14334  This Image Test Will Determine What You Want F...      1\n",
       "\n",
       "[14335 rows x 2 columns]"
      ]
     },
     "execution_count": 285,
     "metadata": {},
     "output_type": "execute_result"
    }
   ],
   "source": [
    "#Loading the clickbait data and assigning class 1\n",
    "\n",
    "import pandas as pd\n",
    "import numpy as np\n",
    "\n",
    "with open('clickbait_yes') as fyes:\n",
    "    linesyes = [line.rstrip() for line in fyes]\n",
    "\n",
    "dfyes = pd.DataFrame(linesyes, columns=['headlines'])\n",
    "\n",
    "dfyes['class']= 1\n",
    "dfyes"
   ]
  },
  {
   "cell_type": "markdown",
   "metadata": {},
   "source": [
    "#### Questions?\n",
    "\n",
    "[kuglerk@uni-trier.de](mailto:kuglerk@uni-trier.de?subject=ML%20Challenge%20NLU)"
   ]
  },
  {
   "cell_type": "code",
   "execution_count": 286,
   "metadata": {},
   "outputs": [
    {
     "data": {
      "text/html": [
       "<div>\n",
       "<style scoped>\n",
       "    .dataframe tbody tr th:only-of-type {\n",
       "        vertical-align: middle;\n",
       "    }\n",
       "\n",
       "    .dataframe tbody tr th {\n",
       "        vertical-align: top;\n",
       "    }\n",
       "\n",
       "    .dataframe thead th {\n",
       "        text-align: right;\n",
       "    }\n",
       "</style>\n",
       "<table border=\"1\" class=\"dataframe\">\n",
       "  <thead>\n",
       "    <tr style=\"text-align: right;\">\n",
       "      <th></th>\n",
       "      <th>headlines</th>\n",
       "      <th>class</th>\n",
       "    </tr>\n",
       "  </thead>\n",
       "  <tbody>\n",
       "    <tr>\n",
       "      <th>0</th>\n",
       "      <td>Soccer Provides Oasis in Mexican City Ravaged ...</td>\n",
       "      <td>0</td>\n",
       "    </tr>\n",
       "    <tr>\n",
       "      <th>1</th>\n",
       "      <td>Five police officers injured in Naples protest...</td>\n",
       "      <td>0</td>\n",
       "    </tr>\n",
       "    <tr>\n",
       "      <th>2</th>\n",
       "      <td>International experts probe deadly Ebola Resto...</td>\n",
       "      <td>0</td>\n",
       "    </tr>\n",
       "    <tr>\n",
       "      <th>3</th>\n",
       "      <td>UK elections: Gordon Brown offers resignation ...</td>\n",
       "      <td>0</td>\n",
       "    </tr>\n",
       "    <tr>\n",
       "      <th>4</th>\n",
       "      <td>Eric Bogosian on writing and the creative urge</td>\n",
       "      <td>0</td>\n",
       "    </tr>\n",
       "    <tr>\n",
       "      <th>...</th>\n",
       "      <td>...</td>\n",
       "      <td>...</td>\n",
       "    </tr>\n",
       "    <tr>\n",
       "      <th>14460</th>\n",
       "      <td>UK's Liverpool FC unveils plans for new stadium</td>\n",
       "      <td>0</td>\n",
       "    </tr>\n",
       "    <tr>\n",
       "      <th>14461</th>\n",
       "      <td>Doughnut on display in Springfield, New Zealand</td>\n",
       "      <td>0</td>\n",
       "    </tr>\n",
       "    <tr>\n",
       "      <th>14462</th>\n",
       "      <td>Colombian soldiers killed by rebel group</td>\n",
       "      <td>0</td>\n",
       "    </tr>\n",
       "    <tr>\n",
       "      <th>14463</th>\n",
       "      <td>UEFA president Platini confirms Euro 2012 to b...</td>\n",
       "      <td>0</td>\n",
       "    </tr>\n",
       "    <tr>\n",
       "      <th>14464</th>\n",
       "      <td>Rod Woodson Tries to Stay Grounded Amid Hall o...</td>\n",
       "      <td>0</td>\n",
       "    </tr>\n",
       "  </tbody>\n",
       "</table>\n",
       "<p>14465 rows × 2 columns</p>\n",
       "</div>"
      ],
      "text/plain": [
       "                                               headlines  class\n",
       "0      Soccer Provides Oasis in Mexican City Ravaged ...      0\n",
       "1      Five police officers injured in Naples protest...      0\n",
       "2      International experts probe deadly Ebola Resto...      0\n",
       "3      UK elections: Gordon Brown offers resignation ...      0\n",
       "4         Eric Bogosian on writing and the creative urge      0\n",
       "...                                                  ...    ...\n",
       "14460    UK's Liverpool FC unveils plans for new stadium      0\n",
       "14461    Doughnut on display in Springfield, New Zealand      0\n",
       "14462           Colombian soldiers killed by rebel group      0\n",
       "14463  UEFA president Platini confirms Euro 2012 to b...      0\n",
       "14464  Rod Woodson Tries to Stay Grounded Amid Hall o...      0\n",
       "\n",
       "[14465 rows x 2 columns]"
      ]
     },
     "execution_count": 286,
     "metadata": {},
     "output_type": "execute_result"
    }
   ],
   "source": [
    "#Loading the no clickbait data and assigning class 0\n",
    "\n",
    "with open('clickbait_no') as fno:\n",
    "    linesno = [line.rstrip() for line in fno]\n",
    "\n",
    "dfno = pd.DataFrame(linesno, columns=['headlines'])\n",
    "\n",
    "dfno['class']= 0\n",
    "dfno\n",
    "\n"
   ]
  },
  {
   "cell_type": "code",
   "execution_count": 287,
   "metadata": {},
   "outputs": [
    {
     "data": {
      "text/html": [
       "<div>\n",
       "<style scoped>\n",
       "    .dataframe tbody tr th:only-of-type {\n",
       "        vertical-align: middle;\n",
       "    }\n",
       "\n",
       "    .dataframe tbody tr th {\n",
       "        vertical-align: top;\n",
       "    }\n",
       "\n",
       "    .dataframe thead th {\n",
       "        text-align: right;\n",
       "    }\n",
       "</style>\n",
       "<table border=\"1\" class=\"dataframe\">\n",
       "  <thead>\n",
       "    <tr style=\"text-align: right;\">\n",
       "      <th></th>\n",
       "      <th>headlines</th>\n",
       "    </tr>\n",
       "  </thead>\n",
       "  <tbody>\n",
       "    <tr>\n",
       "      <th>0</th>\n",
       "      <td>How To Make The Ultimate Spaghetti With Red Sauce</td>\n",
       "    </tr>\n",
       "    <tr>\n",
       "      <th>1</th>\n",
       "      <td>Soviet human rights activist Yelena Bonner die...</td>\n",
       "    </tr>\n",
       "    <tr>\n",
       "      <th>2</th>\n",
       "      <td>\"Someone Calculated How Much Money Jim Spent P...</td>\n",
       "    </tr>\n",
       "    <tr>\n",
       "      <th>3</th>\n",
       "      <td>Demonstrators clash with police in Algeria aft...</td>\n",
       "    </tr>\n",
       "    <tr>\n",
       "      <th>4</th>\n",
       "      <td>This Color Quiz Will Tell You Which Husky Shou...</td>\n",
       "    </tr>\n",
       "    <tr>\n",
       "      <th>...</th>\n",
       "      <td>...</td>\n",
       "    </tr>\n",
       "    <tr>\n",
       "      <th>3195</th>\n",
       "      <td>WHO: H1N1 influenza virus still a pandemic</td>\n",
       "    </tr>\n",
       "    <tr>\n",
       "      <th>3196</th>\n",
       "      <td>No More Surprises as Marist Women Assume Highe...</td>\n",
       "    </tr>\n",
       "    <tr>\n",
       "      <th>3197</th>\n",
       "      <td>Japan raises severity level of crisis; efforts...</td>\n",
       "    </tr>\n",
       "    <tr>\n",
       "      <th>3198</th>\n",
       "      <td>14 Women Who Pushed Their Boob Potential To Th...</td>\n",
       "    </tr>\n",
       "    <tr>\n",
       "      <th>3199</th>\n",
       "      <td>18 Texts Your Mom Definitely Sent You During C...</td>\n",
       "    </tr>\n",
       "  </tbody>\n",
       "</table>\n",
       "<p>3200 rows × 1 columns</p>\n",
       "</div>"
      ],
      "text/plain": [
       "                                              headlines\n",
       "0     How To Make The Ultimate Spaghetti With Red Sauce\n",
       "1     Soviet human rights activist Yelena Bonner die...\n",
       "2     \"Someone Calculated How Much Money Jim Spent P...\n",
       "3     Demonstrators clash with police in Algeria aft...\n",
       "4     This Color Quiz Will Tell You Which Husky Shou...\n",
       "...                                                 ...\n",
       "3195         WHO: H1N1 influenza virus still a pandemic\n",
       "3196  No More Surprises as Marist Women Assume Highe...\n",
       "3197  Japan raises severity level of crisis; efforts...\n",
       "3198  14 Women Who Pushed Their Boob Potential To Th...\n",
       "3199  18 Texts Your Mom Definitely Sent You During C...\n",
       "\n",
       "[3200 rows x 1 columns]"
      ]
     },
     "execution_count": 287,
     "metadata": {},
     "output_type": "execute_result"
    }
   ],
   "source": [
    "#loading the test set data\n",
    "with open('clickbait_hold_X.csv') as ftest:\n",
    "    linesno = [line.rstrip() for line in ftest]\n",
    "\n",
    "X_test= pd.DataFrame(linesno, columns=['headlines'])\n",
    "\n",
    "X_test"
   ]
  },
  {
   "cell_type": "code",
   "execution_count": 288,
   "metadata": {},
   "outputs": [
    {
     "name": "stderr",
     "output_type": "stream",
     "text": [
      "<ipython-input-288-f4a6d7aedc09>:2: FutureWarning: The frame.append method is deprecated and will be removed from pandas in a future version. Use pandas.concat instead.\n",
      "  df = dfyes.append(dfno)\n"
     ]
    },
    {
     "data": {
      "text/html": [
       "<div>\n",
       "<style scoped>\n",
       "    .dataframe tbody tr th:only-of-type {\n",
       "        vertical-align: middle;\n",
       "    }\n",
       "\n",
       "    .dataframe tbody tr th {\n",
       "        vertical-align: top;\n",
       "    }\n",
       "\n",
       "    .dataframe thead th {\n",
       "        text-align: right;\n",
       "    }\n",
       "</style>\n",
       "<table border=\"1\" class=\"dataframe\">\n",
       "  <thead>\n",
       "    <tr style=\"text-align: right;\">\n",
       "      <th></th>\n",
       "      <th>headlines</th>\n",
       "      <th>class</th>\n",
       "    </tr>\n",
       "  </thead>\n",
       "  <tbody>\n",
       "    <tr>\n",
       "      <th>0</th>\n",
       "      <td>Guys Try Tinder</td>\n",
       "      <td>1</td>\n",
       "    </tr>\n",
       "    <tr>\n",
       "      <th>1</th>\n",
       "      <td>Michael B. Jordan Got Laid The Fuck Out While ...</td>\n",
       "      <td>1</td>\n",
       "    </tr>\n",
       "    <tr>\n",
       "      <th>2</th>\n",
       "      <td>What's The Most Fucked Up Thing You've Done On...</td>\n",
       "      <td>1</td>\n",
       "    </tr>\n",
       "    <tr>\n",
       "      <th>3</th>\n",
       "      <td>How Far Would You Make It In The Hunger Games</td>\n",
       "      <td>1</td>\n",
       "    </tr>\n",
       "    <tr>\n",
       "      <th>4</th>\n",
       "      <td>If Matthew Gray Gubler's Tweets Were Motivatio...</td>\n",
       "      <td>1</td>\n",
       "    </tr>\n",
       "    <tr>\n",
       "      <th>...</th>\n",
       "      <td>...</td>\n",
       "      <td>...</td>\n",
       "    </tr>\n",
       "    <tr>\n",
       "      <th>14460</th>\n",
       "      <td>UK's Liverpool FC unveils plans for new stadium</td>\n",
       "      <td>0</td>\n",
       "    </tr>\n",
       "    <tr>\n",
       "      <th>14461</th>\n",
       "      <td>Doughnut on display in Springfield, New Zealand</td>\n",
       "      <td>0</td>\n",
       "    </tr>\n",
       "    <tr>\n",
       "      <th>14462</th>\n",
       "      <td>Colombian soldiers killed by rebel group</td>\n",
       "      <td>0</td>\n",
       "    </tr>\n",
       "    <tr>\n",
       "      <th>14463</th>\n",
       "      <td>UEFA president Platini confirms Euro 2012 to b...</td>\n",
       "      <td>0</td>\n",
       "    </tr>\n",
       "    <tr>\n",
       "      <th>14464</th>\n",
       "      <td>Rod Woodson Tries to Stay Grounded Amid Hall o...</td>\n",
       "      <td>0</td>\n",
       "    </tr>\n",
       "  </tbody>\n",
       "</table>\n",
       "<p>28800 rows × 2 columns</p>\n",
       "</div>"
      ],
      "text/plain": [
       "                                               headlines  class\n",
       "0                                        Guys Try Tinder      1\n",
       "1      Michael B. Jordan Got Laid The Fuck Out While ...      1\n",
       "2      What's The Most Fucked Up Thing You've Done On...      1\n",
       "3          How Far Would You Make It In The Hunger Games      1\n",
       "4      If Matthew Gray Gubler's Tweets Were Motivatio...      1\n",
       "...                                                  ...    ...\n",
       "14460    UK's Liverpool FC unveils plans for new stadium      0\n",
       "14461    Doughnut on display in Springfield, New Zealand      0\n",
       "14462           Colombian soldiers killed by rebel group      0\n",
       "14463  UEFA president Platini confirms Euro 2012 to b...      0\n",
       "14464  Rod Woodson Tries to Stay Grounded Amid Hall o...      0\n",
       "\n",
       "[28800 rows x 2 columns]"
      ]
     },
     "execution_count": 288,
     "metadata": {},
     "output_type": "execute_result"
    }
   ],
   "source": [
    "#making a single data set with clickbait and non click bait datasets\n",
    "df = dfyes.append(dfno)\n",
    "\n",
    "df"
   ]
  },
  {
   "cell_type": "code",
   "execution_count": 289,
   "metadata": {},
   "outputs": [
    {
     "data": {
      "text/html": [
       "<div>\n",
       "<style scoped>\n",
       "    .dataframe tbody tr th:only-of-type {\n",
       "        vertical-align: middle;\n",
       "    }\n",
       "\n",
       "    .dataframe tbody tr th {\n",
       "        vertical-align: top;\n",
       "    }\n",
       "\n",
       "    .dataframe thead th {\n",
       "        text-align: right;\n",
       "    }\n",
       "</style>\n",
       "<table border=\"1\" class=\"dataframe\">\n",
       "  <thead>\n",
       "    <tr style=\"text-align: right;\">\n",
       "      <th></th>\n",
       "      <th>headlines</th>\n",
       "      <th>class</th>\n",
       "    </tr>\n",
       "  </thead>\n",
       "  <tbody>\n",
       "    <tr>\n",
       "      <th>0</th>\n",
       "      <td>guys try tinder</td>\n",
       "      <td>1</td>\n",
       "    </tr>\n",
       "    <tr>\n",
       "      <th>1</th>\n",
       "      <td>michael b    jordan got laid the fuck out whil...</td>\n",
       "      <td>1</td>\n",
       "    </tr>\n",
       "    <tr>\n",
       "      <th>2</th>\n",
       "      <td>what   s the most fucked up thing you   ve don...</td>\n",
       "      <td>1</td>\n",
       "    </tr>\n",
       "    <tr>\n",
       "      <th>3</th>\n",
       "      <td>how far would you make it in the hunger games</td>\n",
       "      <td>1</td>\n",
       "    </tr>\n",
       "    <tr>\n",
       "      <th>4</th>\n",
       "      <td>if matthew gray gubler   s tweets were motivat...</td>\n",
       "      <td>1</td>\n",
       "    </tr>\n",
       "    <tr>\n",
       "      <th>...</th>\n",
       "      <td>...</td>\n",
       "      <td>...</td>\n",
       "    </tr>\n",
       "    <tr>\n",
       "      <th>14460</th>\n",
       "      <td>uk   s liverpool fc unveils plans for new stadium</td>\n",
       "      <td>0</td>\n",
       "    </tr>\n",
       "    <tr>\n",
       "      <th>14461</th>\n",
       "      <td>doughnut on display in springfield    new zealand</td>\n",
       "      <td>0</td>\n",
       "    </tr>\n",
       "    <tr>\n",
       "      <th>14462</th>\n",
       "      <td>colombian soldiers killed by rebel group</td>\n",
       "      <td>0</td>\n",
       "    </tr>\n",
       "    <tr>\n",
       "      <th>14463</th>\n",
       "      <td>uefa president platini confirms euro 2012 to b...</td>\n",
       "      <td>0</td>\n",
       "    </tr>\n",
       "    <tr>\n",
       "      <th>14464</th>\n",
       "      <td>rod woodson tries to stay grounded amid hall o...</td>\n",
       "      <td>0</td>\n",
       "    </tr>\n",
       "  </tbody>\n",
       "</table>\n",
       "<p>28800 rows × 2 columns</p>\n",
       "</div>"
      ],
      "text/plain": [
       "                                               headlines  class\n",
       "0                                        guys try tinder      1\n",
       "1      michael b    jordan got laid the fuck out whil...      1\n",
       "2      what   s the most fucked up thing you   ve don...      1\n",
       "3          how far would you make it in the hunger games      1\n",
       "4      if matthew gray gubler   s tweets were motivat...      1\n",
       "...                                                  ...    ...\n",
       "14460  uk   s liverpool fc unveils plans for new stadium      0\n",
       "14461  doughnut on display in springfield    new zealand      0\n",
       "14462           colombian soldiers killed by rebel group      0\n",
       "14463  uefa president platini confirms euro 2012 to b...      0\n",
       "14464  rod woodson tries to stay grounded amid hall o...      0\n",
       "\n",
       "[28800 rows x 2 columns]"
      ]
     },
     "execution_count": 289,
     "metadata": {},
     "output_type": "execute_result"
    }
   ],
   "source": [
    "#method to preprocess and clean the dataframe remove punctuations, make lower case, remove stop words\n",
    "def preprocess(df, col, lang):\n",
    "    df[col] = df[col].str.replace(r'<[^<>]*>', '', regex=True)\n",
    "\n",
    "    df[col] = df[col].str.lower()\n",
    "    if lang=='en':\n",
    "        df[col] = df[col].str.replace(r\"n\\'t\", \" not\", regex=True)\n",
    "        df[col] = df[col].str.replace(r\"\\'t\", \" not\", regex=True)\n",
    "\n",
    "    df[col] = df[col].str.replace(r'([\\'\\\"\\.\\(\\)\\!\\?\\\\\\/\\,])', r' \\1 ', regex=True)\n",
    "    df[col] = df[col].str.replace(r'[^\\w\\s\\?]', ' ', regex=True)\n",
    "    df[col] = df[col].str.replace(r'([\\;\\:\\|•«\\n])', ' ', regex=True)\n",
    "    return df\n",
    "\n",
    "#preprocessing of dataset \n",
    "preprocess(df, 'headlines', 'en')"
   ]
  },
  {
   "cell_type": "code",
   "execution_count": 290,
   "metadata": {},
   "outputs": [
    {
     "data": {
      "text/html": [
       "<div>\n",
       "<style scoped>\n",
       "    .dataframe tbody tr th:only-of-type {\n",
       "        vertical-align: middle;\n",
       "    }\n",
       "\n",
       "    .dataframe tbody tr th {\n",
       "        vertical-align: top;\n",
       "    }\n",
       "\n",
       "    .dataframe thead th {\n",
       "        text-align: right;\n",
       "    }\n",
       "</style>\n",
       "<table border=\"1\" class=\"dataframe\">\n",
       "  <thead>\n",
       "    <tr style=\"text-align: right;\">\n",
       "      <th></th>\n",
       "      <th>headlines</th>\n",
       "    </tr>\n",
       "  </thead>\n",
       "  <tbody>\n",
       "    <tr>\n",
       "      <th>0</th>\n",
       "      <td>how to make the ultimate spaghetti with red sauce</td>\n",
       "    </tr>\n",
       "    <tr>\n",
       "      <th>1</th>\n",
       "      <td>soviet human rights activist yelena bonner die...</td>\n",
       "    </tr>\n",
       "    <tr>\n",
       "      <th>2</th>\n",
       "      <td>someone calculated how much money jim spent...</td>\n",
       "    </tr>\n",
       "    <tr>\n",
       "      <th>3</th>\n",
       "      <td>demonstrators clash with police in algeria aft...</td>\n",
       "    </tr>\n",
       "    <tr>\n",
       "      <th>4</th>\n",
       "      <td>this color quiz will tell you which husky shou...</td>\n",
       "    </tr>\n",
       "    <tr>\n",
       "      <th>...</th>\n",
       "      <td>...</td>\n",
       "    </tr>\n",
       "    <tr>\n",
       "      <th>3195</th>\n",
       "      <td>who  h1n1 influenza virus still a pandemic</td>\n",
       "    </tr>\n",
       "    <tr>\n",
       "      <th>3196</th>\n",
       "      <td>no more surprises as marist women assume highe...</td>\n",
       "    </tr>\n",
       "    <tr>\n",
       "      <th>3197</th>\n",
       "      <td>japan raises severity level of crisis  efforts...</td>\n",
       "    </tr>\n",
       "    <tr>\n",
       "      <th>3198</th>\n",
       "      <td>14 women who pushed their boob potential to th...</td>\n",
       "    </tr>\n",
       "    <tr>\n",
       "      <th>3199</th>\n",
       "      <td>18 texts your mom definitely sent you during c...</td>\n",
       "    </tr>\n",
       "  </tbody>\n",
       "</table>\n",
       "<p>3200 rows × 1 columns</p>\n",
       "</div>"
      ],
      "text/plain": [
       "                                              headlines\n",
       "0     how to make the ultimate spaghetti with red sauce\n",
       "1     soviet human rights activist yelena bonner die...\n",
       "2        someone calculated how much money jim spent...\n",
       "3     demonstrators clash with police in algeria aft...\n",
       "4     this color quiz will tell you which husky shou...\n",
       "...                                                 ...\n",
       "3195         who  h1n1 influenza virus still a pandemic\n",
       "3196  no more surprises as marist women assume highe...\n",
       "3197  japan raises severity level of crisis  efforts...\n",
       "3198  14 women who pushed their boob potential to th...\n",
       "3199  18 texts your mom definitely sent you during c...\n",
       "\n",
       "[3200 rows x 1 columns]"
      ]
     },
     "execution_count": 290,
     "metadata": {},
     "output_type": "execute_result"
    }
   ],
   "source": [
    "#preprocessing test data\n",
    "preprocess(dftest, 'headlines', 'en')"
   ]
  },
  {
   "cell_type": "code",
   "execution_count": 291,
   "metadata": {},
   "outputs": [
    {
     "data": {
      "text/html": [
       "<div>\n",
       "<style scoped>\n",
       "    .dataframe tbody tr th:only-of-type {\n",
       "        vertical-align: middle;\n",
       "    }\n",
       "\n",
       "    .dataframe tbody tr th {\n",
       "        vertical-align: top;\n",
       "    }\n",
       "\n",
       "    .dataframe thead th {\n",
       "        text-align: right;\n",
       "    }\n",
       "</style>\n",
       "<table border=\"1\" class=\"dataframe\">\n",
       "  <thead>\n",
       "    <tr style=\"text-align: right;\">\n",
       "      <th></th>\n",
       "      <th>headlines</th>\n",
       "    </tr>\n",
       "  </thead>\n",
       "  <tbody>\n",
       "    <tr>\n",
       "      <th>0</th>\n",
       "      <td>guys try tinder</td>\n",
       "    </tr>\n",
       "    <tr>\n",
       "      <th>1</th>\n",
       "      <td>michael b    jordan got laid the fuck out whil...</td>\n",
       "    </tr>\n",
       "    <tr>\n",
       "      <th>2</th>\n",
       "      <td>what   s the most fucked up thing you   ve don...</td>\n",
       "    </tr>\n",
       "    <tr>\n",
       "      <th>3</th>\n",
       "      <td>how far would you make it in the hunger games</td>\n",
       "    </tr>\n",
       "    <tr>\n",
       "      <th>4</th>\n",
       "      <td>if matthew gray gubler   s tweets were motivat...</td>\n",
       "    </tr>\n",
       "    <tr>\n",
       "      <th>...</th>\n",
       "      <td>...</td>\n",
       "    </tr>\n",
       "    <tr>\n",
       "      <th>14460</th>\n",
       "      <td>uk   s liverpool fc unveils plans for new stadium</td>\n",
       "    </tr>\n",
       "    <tr>\n",
       "      <th>14461</th>\n",
       "      <td>doughnut on display in springfield    new zealand</td>\n",
       "    </tr>\n",
       "    <tr>\n",
       "      <th>14462</th>\n",
       "      <td>colombian soldiers killed by rebel group</td>\n",
       "    </tr>\n",
       "    <tr>\n",
       "      <th>14463</th>\n",
       "      <td>uefa president platini confirms euro 2012 to b...</td>\n",
       "    </tr>\n",
       "    <tr>\n",
       "      <th>14464</th>\n",
       "      <td>rod woodson tries to stay grounded amid hall o...</td>\n",
       "    </tr>\n",
       "  </tbody>\n",
       "</table>\n",
       "<p>28800 rows × 1 columns</p>\n",
       "</div>"
      ],
      "text/plain": [
       "                                               headlines\n",
       "0                                        guys try tinder\n",
       "1      michael b    jordan got laid the fuck out whil...\n",
       "2      what   s the most fucked up thing you   ve don...\n",
       "3          how far would you make it in the hunger games\n",
       "4      if matthew gray gubler   s tweets were motivat...\n",
       "...                                                  ...\n",
       "14460  uk   s liverpool fc unveils plans for new stadium\n",
       "14461  doughnut on display in springfield    new zealand\n",
       "14462           colombian soldiers killed by rebel group\n",
       "14463  uefa president platini confirms euro 2012 to b...\n",
       "14464  rod woodson tries to stay grounded amid hall o...\n",
       "\n",
       "[28800 rows x 1 columns]"
      ]
     },
     "execution_count": 291,
     "metadata": {},
     "output_type": "execute_result"
    }
   ],
   "source": [
    "X = df.drop(columns = ['class']).copy()\n",
    "y = df['class']\n",
    "\n",
    "X"
   ]
  },
  {
   "cell_type": "code",
   "execution_count": 292,
   "metadata": {},
   "outputs": [
    {
     "data": {
      "text/plain": [
       "0        1\n",
       "1        1\n",
       "2        1\n",
       "3        1\n",
       "4        1\n",
       "        ..\n",
       "14460    0\n",
       "14461    0\n",
       "14462    0\n",
       "14463    0\n",
       "14464    0\n",
       "Name: class, Length: 28800, dtype: int64"
      ]
     },
     "execution_count": 292,
     "metadata": {},
     "output_type": "execute_result"
    }
   ],
   "source": [
    "y"
   ]
  },
  {
   "cell_type": "code",
   "execution_count": 293,
   "metadata": {},
   "outputs": [
    {
     "name": "stderr",
     "output_type": "stream",
     "text": [
      "[nltk_data] Downloading package stopwords to /Users/hilal/nltk_data...\n",
      "[nltk_data]   Package stopwords is already up-to-date!\n"
     ]
    },
    {
     "data": {
      "text/plain": [
       "True"
      ]
     },
     "execution_count": 293,
     "metadata": {},
     "output_type": "execute_result"
    }
   ],
   "source": [
    "\n",
    "import nltk\n",
    "nltk.download('stopwords')"
   ]
  },
  {
   "cell_type": "code",
   "execution_count": 294,
   "metadata": {},
   "outputs": [],
   "source": [
    "from sklearn.feature_extraction.text import TfidfVectorizer\n",
    "from nltk.corpus import stopwords\n",
    "from scipy import sparse\n",
    "\n",
    "#Create stopwords list\n",
    "stopwords_list = stopwords.words('english')\n",
    "\n",
    "#TF-IDF Vectorization for train and test data\n",
    "tfidf = TfidfVectorizer(stop_words = stopwords_list,ngram_range = (1, 2))\n",
    "tfidf_headlines = tfidf.fit_transform(X['headlines'])\n",
    "tfidf_headlines_test = tfidf.transform(X_test['headlines'])\n",
    "\n",
    "X_ef = X.drop(columns='headlines')\n",
    "X_test_ef = X_test.drop(columns='headlines')\n",
    "\n",
    "X = sparse.hstack([X_ef, tfidf_headlines]).tocsr()\n",
    "X_test = sparse.hstack([X_test_ef, tfidf_headlines_test]).tocsr()"
   ]
  },
  {
   "cell_type": "code",
   "execution_count": 295,
   "metadata": {},
   "outputs": [],
   "source": [
    "from sklearn.model_selection import train_test_split\n",
    "\n",
    "#splitting into train and validation datasets\n",
    "train_size = 0.8\n",
    "X_train, X_valid, y_train, y_valid = train_test_split(X, y, train_size = 0.8, random_state = 10)"
   ]
  },
  {
   "cell_type": "code",
   "execution_count": 296,
   "metadata": {},
   "outputs": [
    {
     "data": {
      "text/plain": [
       "{0: [9072, 3003, 8311, 2346, 7155, 11257, 12345, 191, 1923, 11202, 14099, 10700, 2225, 10695, 2152, 11776, 13307, 10657, 13849, 9800, 10481, 701, 3104, 6898, 4433, 6856, 4974, 8008, 814, 10796, 284, 8622, 13160, 11189, 4491, 7044, 8480, 5731, 9202, 1442, 12268, 9122, 14263, 10865, 4746, 3850, 14409, 1332, 10388, 8555, 10041, 352, 10330, 14185, 10824, 533, 12120, 3446, 3923, 2682, 13844, 2362, 5745, 14359, 7055, 6830, 8255, 3028, 1777, 5094, 6475, 7544, 10520, 4326, 2501, 7623, 7865, 13428, 4280, 2694, 1206, 1618, 12503, 3461, 4737, 7223, 4993, 11438, 173, 10244, 3191, 9858, 5584, 1175, 11941, 8321, 5278, 13891, 10194, 10298, ...], 1: [6469, 5578, 13184, 5291, 513, 10680, 7692, 7733, 6553, 7169, 10290, 4015, 13889, 5506, 12901, 9997, 12125, 461, 704, 5933, 3772, 12236, 3815, 7979, 210, 11656, 13674, 14330, 6798, 3846, 1661, 5220, 9683, 3492, 5811, 9723, 4061, 7539, 6263, 10151, 8795, 11116, 13876, 3732, 5373, 188, 7337, 11854, 6787, 12827, 3773, 13739, 4734, 6371, 10162, 6202, 1611, 703, 11796, 13469, 12736, 5446, 3102, 6583, 1022, 1061, 7626, 9794, 2737, 10677, 10987, 11567, 10850, 10643, 9908, 145, 3116, 10908, 2467, 6670, 4815, 2786, 6538, 2492, 10937, 421, 227, 12856, 13194, 3023, 5538, 14038, 7469, 6608, 4512, 11281, 6667, 12411, 1517, 1719, ...]}"
      ]
     },
     "execution_count": 296,
     "metadata": {},
     "output_type": "execute_result"
    }
   ],
   "source": [
    "g = y_valid.groupby(y_valid)\n",
    "g.groups"
   ]
  },
  {
   "cell_type": "code",
   "execution_count": 297,
   "metadata": {},
   "outputs": [],
   "source": [
    "from sklearn.naive_bayes import MultinomialNB\n",
    "from sklearn.metrics import confusion_matrix"
   ]
  },
  {
   "cell_type": "code",
   "execution_count": 298,
   "metadata": {},
   "outputs": [
    {
     "data": {
      "text/plain": [
       "(5760,)"
      ]
     },
     "execution_count": 298,
     "metadata": {},
     "output_type": "execute_result"
    }
   ],
   "source": [
    "# fit the model to the training data\n",
    "mn = MultinomialNB(alpha=.05)\n",
    "mn.fit(X_train, y_train)\n",
    "\n",
    "# use the model to make predictions on validation set\n",
    "validPredict = mn.predict(X_valid)\n",
    "\n",
    "validPredict.shape"
   ]
  },
  {
   "cell_type": "code",
   "execution_count": 299,
   "metadata": {},
   "outputs": [
    {
     "data": {
      "text/plain": [
       "0.9631424121820383"
      ]
     },
     "execution_count": 299,
     "metadata": {},
     "output_type": "execute_result"
    }
   ],
   "source": [
    "from sklearn.metrics import f1_score\n",
    "\n",
    "#f1 score for the model in validation set\n",
    "f1_score(y_valid, validPredict)"
   ]
  },
  {
   "cell_type": "code",
   "execution_count": 300,
   "metadata": {},
   "outputs": [
    {
     "data": {
      "text/plain": [
       "(3200,)"
      ]
     },
     "execution_count": 300,
     "metadata": {},
     "output_type": "execute_result"
    }
   ],
   "source": [
    "# use the model to make predictions on test set\n",
    "testPredict = mn.predict(X_test)\n",
    "\n",
    "testPredict.shape"
   ]
  },
  {
   "cell_type": "code",
   "execution_count": 301,
   "metadata": {},
   "outputs": [
    {
     "data": {
      "text/plain": [
       "array([1, 0, 1, ..., 0, 0, 1])"
      ]
     },
     "execution_count": 301,
     "metadata": {},
     "output_type": "execute_result"
    }
   ],
   "source": [
    "# predictions for the test data\n",
    "testPredict"
   ]
  },
  {
   "cell_type": "code",
   "execution_count": 304,
   "metadata": {},
   "outputs": [],
   "source": [
    "# generating the prediction text file\n",
    "np.savetxt(r'predictions.txt', testPredict, fmt = '%d')"
   ]
  },
  {
   "cell_type": "code",
   "execution_count": null,
   "metadata": {},
   "outputs": [],
   "source": []
  }
 ],
 "metadata": {
  "kernelspec": {
   "display_name": "Python 3",
   "language": "python",
   "name": "python3"
  },
  "language_info": {
   "codemirror_mode": {
    "name": "ipython",
    "version": 3
   },
   "file_extension": ".py",
   "mimetype": "text/x-python",
   "name": "python",
   "nbconvert_exporter": "python",
   "pygments_lexer": "ipython3",
   "version": "3.8.8"
  },
  "vscode": {
   "interpreter": {
    "hash": "974742b9e3f84bbfc2ab858fce40e48c160687419b819993149cbe09d34e2b28"
   }
  }
 }
]
,
 "metadata": {},
 "nbformat": 4,
 "nbformat_minor": 5
}
